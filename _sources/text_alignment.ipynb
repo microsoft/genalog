{
 "cells": [
  {
   "cell_type": "markdown",
   "metadata": {},
   "source": [
    "(text-alignment-page)=\n",
    "# Text alignment\n",
    "\n",
    "````{margin}\n",
    "```{note}\n",
    "There are many OCR engines you can use to work with `genalog`, including [Azure Cognitve Services](https://docs.microsoft.com/en-us/python/api/overview/azure/cognitiveservices-vision-computervision-readme?view=azure-python) and [Tesseract](https://github.com/tesseract-ocr/tesseract).\n",
    "```\n",
    "````\n",
    "\n",
    "`genalog` provides text alignment capabilities. This is most useful in the following situations after you have ran Opitcal Character Recognition (OCR) on the synthetic documents:\n",
    "\n",
    "- Text alignment between noisy (OCR result) and grouth truth text\n",
    "- NER label propagation using text alignment results (we will cover this in the next page)\n",
    "\n",
    "`genalog` provides two methods of alignment:\n",
    "1. `genalog.text.anchor.align_w_anchor()`\n",
    "1. `genalog.text.alignment.align()`\n",
    "\n",
    "`align_w_anchor()` implements the Recursive Text Alignment Scheme (RETAS) from the paper [A Fast Alignment Scheme for Automatic OCR Evaluation of Books](https://ieeexplore.ieee.org/abstract/document/6065412) and works best on longer text strings, while `align()` implement the [Needleman-Wunsch algorithm](https://en.wikipedia.org/wiki/Needleman%E2%80%93Wunsch_algorithm) and works best on shorter strings. \n",
    "\n",
    "We recommend using the `align_w_anchor()` method on inputs longer than **200 characters**. Both methods share the same function contract and are interchangeable. \n"
   ]
  },
  {
   "cell_type": "code",
   "execution_count": 40,
   "metadata": {},
   "outputs": [],
   "source": [
    "gt_txt = \"New York is big\"\n",
    "noise_txt = \"New Yo rkis\""
   ]
  },
  {
   "source": [
    "## RETAS Method\n",
    "\n",
    "This is our implementation of The Recursive Text Alignment Scheme (RETAS) from the paper [A Fast Alignment Scheme for Automatic OCR Evaluation of Books](https://ieeexplore.ieee.org/abstract/document/6065412), as the original paper did not release the algorithm written in Python.\n"
   ],
   "cell_type": "markdown",
   "metadata": {}
  },
  {
   "cell_type": "code",
   "execution_count": 41,
   "metadata": {},
   "outputs": [
    {
     "name": "stdout",
     "output_type": "stream",
     "text": [
      "Aligned ground truth: New Yo@rk is big\n",
      "Aligned noise:        New Yo rk@is@@@@\n"
     ]
    }
   ],
   "source": [
    "from genalog.text import anchor\n",
    "\n",
    "# Extra whitespaces are removed\n",
    "aligned_gt, aligned_noise = anchor.align_w_anchor(gt_txt, noise_txt)\n",
    "print(f\"Aligned ground truth: {aligned_gt}\")\n",
    "print(f\"Aligned noise:        {aligned_noise}\")"
   ]
  },
  {
   "source": [
    "```{hint}\n",
    "`@` is the default gap character inserted by the alignment algorithm, you can change the gap character by providing the keyword-argument `anchor.align_w_anchor(gt_txt, noise_txt, gap_char=<NEW_CHAR>)`\n",
    "```"
   ],
   "cell_type": "markdown",
   "metadata": {}
  },
  {
   "source": [
    "## Needleman-Wunsch Algorithm\n",
    "\n",
    "We use [Biopython](https://biopython.org/)'s implementation of the Needleman-Wunsch algorithm for text alignment.\n",
    "This algorithm is an exhaustive search for all possible candidates with dynamic programming. \n",
    "It produces weighted score for each candidate and returns those having the highest score. \n",
    "(**NOTE** that multiple candidates can share the same score)"
   ],
   "cell_type": "markdown",
   "metadata": {}
  },
  {
   "cell_type": "code",
   "execution_count": 42,
   "metadata": {},
   "outputs": [
    {
     "name": "stdout",
     "output_type": "stream",
     "text": [
      "Aligned ground truth: New Yo@rk is big\n",
      "Aligned noise:        New Yo rk@is@@@@\n"
     ]
    }
   ],
   "source": [
    "# Needleman-Wunsch alignment ONLY\n",
    "from genalog.text import alignment\n",
    "\n",
    "aligned_gt, aligned_noise = alignment.align(gt_txt, noise_txt)\n",
    "print(f\"Aligned ground truth: {aligned_gt}\")\n",
    "print(f\"Aligned noise:        {aligned_noise}\")"
   ]
  },
  {
   "source": [
    "### Advanced Algorithm Configurations\n",
    "\n",
    "The Needleman-Wunsch Algorithm algorithm has 4 hyperparameters for tuning candidate scores:\n",
    "1. **Match Reward** - how much the algorithm rewards matching characters\n",
    "1. **Mismatch Penalty** - how much the algorithm penalizes mismatching characters\n",
    "1. **Gap Penalty** - how much the algorithm penalizes for creating a gap with a GAP_CHAR (defaults to '@')\n",
    "1. **Gap Extension Penalty** - how much the algorithm penalizes for extending a gap (ex \"@@@@\")\n",
    "\n",
    "You can find the default values for these four parameters as a constant in the package:\n",
    "1. `genalog.text.alignment.MATCH_REWARD`\n",
    "1. `genalog.text.alignment.MISMATCH_PENALTY`\n",
    "1. `genalog.text.alignment.GAP_PENALTY`\n",
    "1. `genalog.text.alignment.GAP_EXT_PENALTY`"
   ],
   "cell_type": "markdown",
   "metadata": {}
  },
  {
   "source": [
    "## Interpret the Alignment Results\n",
    "\n",
    "`genalog` provide additional functionality to interpret the alignment results and produce a relational mapping between the tokens in the noisy and grouth truth text."
   ],
   "cell_type": "markdown",
   "metadata": {}
  },
  {
   "cell_type": "code",
   "execution_count": 36,
   "metadata": {},
   "outputs": [
    {
     "name": "stdout",
     "output_type": "stream",
     "text": [
      "gt_to_noise: [[0], [1, 2], [2], []]\n",
      "noise_to_gt: [[0], [1], [1, 2], []]\n"
     ]
    }
   ],
   "source": [
    "from genalog.text import alignment\n",
    "\n",
    "# Process the aligned strings to find out how the tokens are related\n",
    "gt_to_noise_mapping, noise_to_gt_mapping = alignment.parse_alignment(aligned_gt, aligned_noise, gap_char=\"@\")\n",
    "print(f\"gt_to_noise: {gt_to_noise_mapping}\")\n",
    "print(f\"noise_to_gt: {noise_to_gt_mapping}\")"
   ]
  },
  {
   "source": [
    "Recall that the ground truth is `New York is big` while the noisy text is `New Yo rkis`.\n",
    "\n",
    "`gt_to_noise: [[0], [1, 2], [2], []]` can be interpreted as: \"the **0th** gt token (`New`) maps to the **0th** noisy token (`New`), the **1st** gt token (`York`) maps to the **1st and 2nd** nosity tokens (`Yo` and `rkis`), the **2nd** token (`is`) maps to the **2nd** noisy token (`rkis`), and finally, the last gt token (`big`) cannot be mapped to any noisy token.\"\n",
    "\n",
    "And the vice versa for `noise_to_gt: [[0], [1], [1, 2], []]`\n"
   ],
   "cell_type": "markdown",
   "metadata": {}
  },
  {
   "source": [
    "## Formatting Alignment Results\n",
    "\n",
    "You can use `genalog.alignment._format_alignment()` for better visual understanding of the alignment results"
   ],
   "cell_type": "markdown",
   "metadata": {}
  },
  {
   "cell_type": "code",
   "execution_count": 25,
   "metadata": {},
   "outputs": [
    {
     "name": "stdout",
     "output_type": "stream",
     "text": [
      "New Yo@rk is @ big@\n",
      "||||||.||.||||||||.\n",
      "New Yo rk@is @ big \n",
      "\n"
     ]
    }
   ],
   "source": [
    "# Format aligned string for better display\n",
    "print(alignment._format_alignment(aligned_gt, aligned_noise))"
   ]
  },
  {
   "cell_type": "code",
   "execution_count": null,
   "metadata": {},
   "outputs": [],
   "source": []
  }
 ],
 "metadata": {
  "kernelspec": {
   "display_name": "Python 3",
   "language": "python",
   "name": "python3"
  },
  "language_info": {
   "codemirror_mode": {
    "name": "ipython",
    "version": 3
   },
   "file_extension": ".py",
   "mimetype": "text/x-python",
   "name": "python",
   "nbconvert_exporter": "python",
   "pygments_lexer": "ipython3",
   "version": "3.6.9"
  }
 },
 "nbformat": 4,
 "nbformat_minor": 4
}