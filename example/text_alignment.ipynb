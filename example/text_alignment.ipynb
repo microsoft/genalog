{
 "cells": [
  {
   "cell_type": "markdown",
   "metadata": {},
   "source": [
    "## `genalog.text` module:\n",
    "This module is responsible for:\n",
    "\n",
    "- Text alignment\n",
    "- NER label propagation using text alignment results\n",
    "\n",
    "`genalog` provides two methods of alignment:\n",
    "1. `genalog.text.anchor.align_w_anchor()`\n",
    "1. `genalog.text.alignment.align()`\n",
    "\n",
    "`align_w_anchor()` implements the Recursive Text Alignment Scheme (RETAS) from the paper [A Fast Alignment Scheme for Automatic OCR Evaluation of Books](https://ieeexplore.ieee.org/abstract/document/6065412) and works best on longer text strings, while `align()` implement the [Needleman-Wunsch algorithm](https://en.wikipedia.org/wiki/Needleman%E2%80%93Wunsch_algorithm) and works best on shorter strings. We recommend using the `align_w_anchor()` method on inputs longer than **200 characters**. Both methods share the same function contract and are interchangeable. \n",
    "\n",
    "We use [Biopython](https://biopython.org/)'s implementation of the Needleman-Wunsch algorithm for text alignment.\n",
    "This algorithm is an exhaustive search for all possible candidates with dynamic programming. \n",
    "It produces weighted score for each candidate and returns those having the highest score. \n",
    "(**NOTE** that multiple candidates can share the same score)\n",
    "\n",
    "This algorithm has 4 hyperparameters for tuning candidate scores:\n",
    "1. **Match Reward** - how much the algorithm rewards matching characters\n",
    "1. **Mismatch Penalty** - how much the algorithm penalizes mismatching characters\n",
    "1. **Gap Penalty** - how much the algorithm penalizes for creating a gap with a GAP_CHAR (defaults to '@')\n",
    "1. **Gap Extension Penalty** - how much the algorithm penalizes for extending a gap (ex \"@@@@\")\n",
    "\n",
    "You can find the default values for these four parameters as a constant in the package:\n",
    "1. `genalog.text.alignment.MATCH_REWARD`\n",
    "1. `genalog.text.alignment.MISMATCH_PENALTY`\n",
    "1. `genalog.text.alignment.GAP_PENALTY`\n",
    "1. `genalog.text.alignment.GAP_EXT_PENALTY`\n",
    "We will demonstrate text alignment here."
   ]
  },
  {
   "cell_type": "code",
   "execution_count": 40,
   "metadata": {},
   "outputs": [],
   "source": [
    "gt_txt = \"New York is big\"\n",
    "noise_txt = \"New Yo rkis\""
   ]
  },
  {
   "cell_type": "code",
   "execution_count": 41,
   "metadata": {},
   "outputs": [
    {
     "name": "stdout",
     "output_type": "stream",
     "text": [
      "Aligned ground truth: New Yo@rk is big\n",
      "Aligned noise:        New Yo rk@is@@@@\n"
     ]
    }
   ],
   "source": [
    "# RETAS method \n",
    "from genalog.text import anchor\n",
    "\n",
    "# Extra whitespaces are removed\n",
    "aligned_gt, aligned_noise = anchor.align_w_anchor(gt_txt, noise_txt)\n",
    "print(f\"Aligned ground truth: {aligned_gt}\")\n",
    "print(f\"Aligned noise:        {aligned_noise}\")"
   ]
  },
  {
   "cell_type": "code",
   "execution_count": 42,
   "metadata": {},
   "outputs": [
    {
     "name": "stdout",
     "output_type": "stream",
     "text": [
      "Aligned ground truth: New Yo@rk is big\n",
      "Aligned noise:        New Yo rk@is@@@@\n"
     ]
    }
   ],
   "source": [
    "# Needleman-Wunsch alignment ONLY\n",
    "from genalog.text import alignment\n",
    "\n",
    "aligned_gt, aligned_noise = alignment.align(gt_txt, noise_txt)\n",
    "print(f\"Aligned ground truth: {aligned_gt}\")\n",
    "print(f\"Aligned noise:        {aligned_noise}\")"
   ]
  },
  {
   "cell_type": "code",
   "execution_count": 36,
   "metadata": {},
   "outputs": [
    {
     "name": "stdout",
     "output_type": "stream",
     "text": [
      "gt_to_noise: [[0], [1, 2], [2], []]\n",
      "noise_to_gt: [[0], [1], [1, 2], []]\n"
     ]
    }
   ],
   "source": [
    "from genalog.text import alignment\n",
    "\n",
    "# Process the aligned strings to find out how the tokens are related\n",
    "gt_to_noise_mapping, noise_to_gt_mapping = alignment.parse_alignment(aligned_gt, aligned_noise, gap_char=\"@\")\n",
    "print(f\"gt_to_noise: {gt_to_noise_mapping}\")\n",
    "print(f\"noise_to_gt: {noise_to_gt_mapping}\")"
   ]
  },
  {
   "cell_type": "code",
   "execution_count": 25,
   "metadata": {},
   "outputs": [
    {
     "name": "stdout",
     "output_type": "stream",
     "text": [
      "New Yo@rk is @ big@\n",
      "||||||.||.||||||||.\n",
      "New Yo rk@is @ big \n",
      "\n"
     ]
    }
   ],
   "source": [
    "# Format aligned string for better display\n",
    "print(alignment._format_alignment(aligned_gt, aligned_noise))"
   ]
  },
  {
   "cell_type": "code",
   "execution_count": null,
   "metadata": {},
   "outputs": [],
   "source": []
  }
 ],
 "metadata": {
  "kernelspec": {
   "display_name": "Python 3",
   "language": "python",
   "name": "python3"
  },
  "language_info": {
   "codemirror_mode": {
    "name": "ipython",
    "version": 3
   },
   "file_extension": ".py",
   "mimetype": "text/x-python",
   "name": "python",
   "nbconvert_exporter": "python",
   "pygments_lexer": "ipython3",
   "version": "3.6.9"
  }
 },
 "nbformat": 4,
 "nbformat_minor": 4
}
