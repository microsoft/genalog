{
 "metadata": {
  "language_info": {
   "codemirror_mode": {
    "name": "ipython",
    "version": 3
   },
   "file_extension": ".py",
   "mimetype": "text/x-python",
   "name": "python",
   "nbconvert_exporter": "python",
   "pygments_lexer": "ipython3",
   "version": "3.6.9"
  },
  "orig_nbformat": 2,
  "kernelspec": {
   "name": "python3",
   "display_name": "Python 3",
   "language": "python"
  },
  "metadata": {
   "interpreter": {
    "hash": "463957e7759ed5c981e4d097e7f970bbf621ad48bd269f8044dc509b219ad94f"
   }
  }
 },
 "nbformat": 4,
 "nbformat_minor": 2,
 "cells": [
  {
   "source": [
    "# Analog Document Generation\n",
    "\n",
    "<p float=\"left\">\n",
    "  <img src=\"static\\analog_doc_gen_pipeline.png\" width=\"800\" />\n",
    "</p>\n",
    "\n",
    "Genalog provides a simple interface (`AnalogDocumentGeneration`) to programmatic generate documents with degradation from a body of text."
   ],
   "cell_type": "markdown",
   "metadata": {}
  },
  {
   "cell_type": "code",
   "execution_count": null,
   "metadata": {},
   "outputs": [],
   "source": [
    "from genalog.pipeline import AnalogDocumentGeneration\n"
   ]
  },
  {
   "source": [
    "## Configurations\n",
    "\n",
    "You will need to supply the following information:\n",
    "\n",
    "1. `STYLE_COMBINATIONS`: a dictionary defining the combination of styles to generate per text document (i.e. a copy of the same text document is generate per style combination). Example is shown below:\n",
    "\n",
    "```\n",
    "    STYLE_COMBINATION = {\n",
    "        \"language\": [\"en_US\"],\n",
    "        \"font_family\": [\"Segoe UI\"],\n",
    "        \"font_size\": [\"12px\"],\n",
    "        \"text_align\": [\"left\"],\n",
    "        \"hyphenate\": [False],\n",
    "    }\n",
    "``` \n",
    "Genalog depends on Weasyprint as the engine to render these CSS styles. Most of these fields are standard CSS properties and accepts common values as specified in [W3C CSS Properties](https://www.w3.org/Style/CSS/all-properties.en.html). For details, please see [Weasyprint Documentation](https://weasyprint.readthedocs.io/en/stable/features.html#fonts)."
   ],
   "cell_type": "markdown",
   "metadata": {}
  },
  {
   "cell_type": "code",
   "execution_count": null,
   "metadata": {},
   "outputs": [],
   "source": [
    "STYLE_COMBINATIONS = {\n",
    "    \"language\": [\"en_US\"],\n",
    "     \"font_family\": [\"Segeo UI\"],\n",
    "     \"font_size\": [\"12px\"],\n",
    "     \"text_align\": [\"justify\"],\n",
    "     \"hyphenate\": [True, False],\n",
    "}"
   ]
  },
  {
   "source": [
    "2. `DEGRADATIONS`: a list defining the sequence of degradation effects applied onto the synthetic images. Each element is a two-element tuple of which the first element is one of the method names from  `genalog.degradation.effect` and the second element is the corresponding function keyword arguments.\n",
    "\n",
    "        DEGRADATIONS = [\n",
    "            (\"blur\", {\"radius\": 3}),\n",
    "            (\"bleed_through\", {\"alpha\": 0.8}),\n",
    "            (\"morphology\", {\"operation\": \"open\", \"kernel_shape\": (3,3), \"kernel_type\": \"ones\"}), \n",
    "        ]\n",
    "        \n",
    "    The example above will apply degradation effects to synthetic images in the sequence of: \n",
    "    \n",
    "            blur -> bleed_through -> morphological operation (open)\n",
    "    \n",
    "For the full list of supported degradation effects, please see [documentation on degradation](https://github.com/microsoft/genalog/blob/main/genalog/degradation/README.md).\n",
    "    \n"
   ],
   "cell_type": "markdown",
   "metadata": {}
  },
  {
   "cell_type": "code",
   "execution_count": null,
   "metadata": {},
   "outputs": [],
   "source": [
    "from genalog.degradation.degrader import ImageState\n",
    "\n",
    "DEGRADATIONS = [\n",
    "    (\"morphology\", {\"operation\": \"open\", \"kernel_shape\":(9,9), \"kernel_type\":\"plus\"}),\n",
    "    (\"morphology\", {\"operation\": \"close\", \"kernel_shape\":(9,1), \"kernel_type\":\"ones\"}),\n",
    "    (\"salt\", {\"amount\": 0.7}),\n",
    "    (\"overlay\", {\n",
    "        \"src\": ImageState.ORIGINAL_STATE,\n",
    "        \"background\": ImageState.CURRENT_STATE,\n",
    "    }),\n",
    "    (\"bleed_through\", {\n",
    "        \"src\": ImageState.CURRENT_STATE,\n",
    "        \"background\": ImageState.ORIGINAL_STATE,\n",
    "        \"alpha\": 0.8,\n",
    "        \"offset_x\": -6,\n",
    "        \"offset_y\": -12,\n",
    "    }),\n",
    "    (\"pepper\", {\"amount\": 0.005}),\n",
    "    (\"blur\", {\"radius\": 5}),\n",
    "    (\"salt\", {\"amount\": 0.15}),\n",
    "]"
   ]
  },
  {
   "source": [
    "3. `HTML_TEMPLATE`: name of html template used to generate the synthetic images. The `genalog` package has the following default templates: \n",
    "\n",
    "    1. `columns.html.jinja` \n",
    "    2. `letter.html.jinja`\n",
    "    3. `text_block.html.jinja`\n",
    "\n",
    "<p float=\"left\">\n",
    "  <img src=\"sample/generation/columns_Times_11px.png\" width=\"300\" />\n",
    "  <img src=\"sample/generation/letter_Times_11px.png\" width=\"300\" />\n",
    "  <img src=\"sample/generation/text_block_Times_11px.png\" width=\"300\" />\n",
    "</p>\n",
    "\n",
    "We use `Jinja` to prepare html templates. You can find example of these Jinja templates in [our source code](https://github.com/microsoft/genalog/tree/main/genalog/generation/templates).\n",
    "\n",
    "For custom templates, please set `template_path` to the folder of containing them. You can find more information from our [`document_generation.ipynb`](https://github.com/microsoft/genalog/blob/main/example/document_generation.ipynb)."
   ],
   "cell_type": "markdown",
   "metadata": {}
  },
  {
   "cell_type": "code",
   "execution_count": null,
   "metadata": {},
   "outputs": [],
   "source": [
    "HTML_TEMPLATE = \"text_block.html.jinja\"\n"
   ]
  },
  {
   "cell_type": "code",
   "execution_count": null,
   "metadata": {},
   "outputs": [],
   "source": [
    "IMG_RESOLUTION = 300 # dots per inch (dpi) of the generated pdf/image\n",
    "sample_file = \"sample/generation/example.txt\"\n",
    "\n",
    "doc_generation = AnalogDocumentGeneration(styles=STYLE_COMBINATIONS, degradations=DEGRADATIONS, resolution=IMG_RESOLUTION, template_path=None) # for custom templates, please set template_path.\n",
    "img_array = doc_generation.generate_img(sample_file, HTML_TEMPLATE, target_folder=None) # returns the raw image bytes if target_folder is not specified"
   ]
  },
  {
   "cell_type": "code",
   "execution_count": null,
   "metadata": {},
   "outputs": [],
   "source": [
    "import cv2\n",
    "from IPython.core.display import Image, display\n",
    "\n",
    "_, encoded_image = cv2.imencode('.png', img_array)\n",
    "display(Image(data=encoded_image, width=600))"
   ]
  },
  {
   "cell_type": "code",
   "execution_count": null,
   "metadata": {},
   "outputs": [],
   "source": [
    "from genalog.pipeline import generate_dataset_multiprocess\n",
    "\n",
    "DST_PATH = \"data\" # where on disk to write the generated image\n",
    "\n",
    "generate_dataset_multiprocess(\n",
    "    [sample_file], DST_PATH, STYLE_COMBINATIONS, DEGRADATIONS, HTML_TEMPLATE, \n",
    "    resolution=IMG_RESOLUTION, batch_size=5\n",
    ")"
   ]
  },
  {
   "cell_type": "code",
   "execution_count": null,
   "metadata": {},
   "outputs": [],
   "source": []
  }
 ]
}